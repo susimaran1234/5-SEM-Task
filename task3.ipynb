{
 "cells": [
  {
   "cell_type": "code",
   "execution_count": 1,
   "id": "78a38704",
   "metadata": {},
   "outputs": [],
   "source": [
    "import cv2\n",
    "import numpy as np"
   ]
  },
  {
   "cell_type": "code",
   "execution_count": 2,
   "id": "3c7b7ede",
   "metadata": {},
   "outputs": [],
   "source": [
    "img = cv2.imread(\"C:\\\\Users\\\\aedpu\\\\OneDrive\\\\Pictures\\\\color.jpg\")"
   ]
  },
  {
   "cell_type": "code",
   "execution_count": 3,
   "id": "b0b525bf",
   "metadata": {},
   "outputs": [],
   "source": [
    "color = cv2.bilateralFilter(img,9,250,250)"
   ]
  },
  {
   "cell_type": "code",
   "execution_count": 5,
   "id": "4d74aed9",
   "metadata": {},
   "outputs": [],
   "source": [
    "gray = cv2.cvtColor(img, cv2.COLOR_BGR2GRAY)\n",
    "gray = cv2.medianBlur(gray, 5)"
   ]
  },
  {
   "cell_type": "code",
   "execution_count": 6,
   "id": "380bb23e",
   "metadata": {},
   "outputs": [],
   "source": [
    "edges = cv2.adaptiveThreshold(gray, 255, cv2.ADAPTIVE_THRESH_MEAN_C,cv2.THRESH_BINARY,9,9)"
   ]
  },
  {
   "cell_type": "code",
   "execution_count": 7,
   "id": "0d28c08d",
   "metadata": {},
   "outputs": [],
   "source": [
    "cartoon = cv2.bitwise_and(color, color,mask=edges)"
   ]
  },
  {
   "cell_type": "code",
   "execution_count": 10,
   "id": "577d6911",
   "metadata": {},
   "outputs": [],
   "source": [
    "cv2.imshow(\"cartoon\",cartoon)\n",
    "cv2.imshow(\"Orginal\",img)\n",
    "cv2.imshow(\"drawing\",edges)\n",
    "cv2.waitKey(0)\n",
    "cv2.destroyAllWindows()"
   ]
  },
  {
   "cell_type": "code",
   "execution_count": null,
   "id": "1f631705",
   "metadata": {},
   "outputs": [],
   "source": []
  }
 ],
 "metadata": {
  "kernelspec": {
   "display_name": "Python 3 (ipykernel)",
   "language": "python",
   "name": "python3"
  },
  "language_info": {
   "codemirror_mode": {
    "name": "ipython",
    "version": 3
   },
   "file_extension": ".py",
   "mimetype": "text/x-python",
   "name": "python",
   "nbconvert_exporter": "python",
   "pygments_lexer": "ipython3",
   "version": "3.9.17"
  }
 },
 "nbformat": 4,
 "nbformat_minor": 5
}
