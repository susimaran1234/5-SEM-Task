{
 "cells": [
  {
   "cell_type": "code",
   "execution_count": 1,
   "id": "adbfbb29-4492-4852-ad67-a88949b762ea",
   "metadata": {},
   "outputs": [],
   "source": [
    "import cv2\n",
    "import numpy as np"
   ]
  },
  {
   "cell_type": "code",
   "execution_count": 2,
   "id": "601cd558-02c1-4721-8f5e-1dc1adc2beeb",
   "metadata": {},
   "outputs": [],
   "source": [
    "img = cv2.imread(\"C:\\\\Users\\\\aedpu\\\\OneDrive\\\\Pictures\\\\sun.jpeg\")"
   ]
  },
  {
   "cell_type": "code",
   "execution_count": 3,
   "id": "808be4a6-8634-4b38-9a30-bf10d3fd4c73",
   "metadata": {},
   "outputs": [
    {
     "name": "stdout",
     "output_type": "stream",
     "text": [
      "(172, 292, 3)\n"
     ]
    }
   ],
   "source": [
    "shp=img.shape\n",
    "print(shp)"
   ]
  },
  {
   "cell_type": "code",
   "execution_count": 4,
   "id": "ef7044ff-4fc4-4cd7-b4cd-2f93a76d9b6c",
   "metadata": {},
   "outputs": [],
   "source": [
    "img = cv2.resize(img,(500,300))"
   ]
  },
  {
   "cell_type": "code",
   "execution_count": 5,
   "id": "8355788e-ca32-4465-bf9c-ed773914848f",
   "metadata": {},
   "outputs": [
    {
     "data": {
      "text/plain": [
       "(300, 500, 3)"
      ]
     },
     "execution_count": 5,
     "metadata": {},
     "output_type": "execute_result"
    }
   ],
   "source": [
    "img.shape"
   ]
  },
  {
   "cell_type": "code",
   "execution_count": 6,
   "id": "764298f7-09e0-4e35-b6ca-6fb5f24fd92f",
   "metadata": {},
   "outputs": [],
   "source": [
    "GREY=cv2.cvtColor(img,cv2.COLOR_BGR2GRAY)"
   ]
  },
  {
   "cell_type": "code",
   "execution_count": 7,
   "id": "4f2b5a17-e94c-4df8-91d2-bccf69d8324f",
   "metadata": {},
   "outputs": [],
   "source": [
    "cv2.imshow(\"Original\",img)\n",
    "cv2.imshow(\"gray\",GREY)\n",
    "cv2.waitKey(0)\n",
    "cv2.destroyAllWindows()"
   ]
  },
  {
   "cell_type": "code",
   "execution_count": 8,
   "id": "353b7eab-f22f-4b76-9932-6c8280b97f1d",
   "metadata": {},
   "outputs": [],
   "source": [
    "ret,thresh1 = cv2.threshold(GREY, 200,255,cv2.THRESH_BINARY )"
   ]
  },
  {
   "cell_type": "code",
   "execution_count": 9,
   "id": "b139af30-51bf-43aa-9e3d-be392be5ea2f",
   "metadata": {},
   "outputs": [],
   "source": [
    "ret,thresh2 = cv2.threshold(GREY, 127,255,cv2.THRESH_BINARY_INV )"
   ]
  },
  {
   "cell_type": "code",
   "execution_count": 10,
   "id": "97c1c882-8a94-49a8-be7a-18be7d137530",
   "metadata": {},
   "outputs": [],
   "source": [
    "ret,thresh3 = cv2.threshold(GREY, 127,255,cv2.THRESH_TRUNC )"
   ]
  },
  {
   "cell_type": "code",
   "execution_count": 11,
   "id": "6291ed30-fc2d-41e1-9bb5-e20c422172d8",
   "metadata": {},
   "outputs": [],
   "source": [
    "ret,thresh4 = cv2.threshold(GREY, 127,255,cv2.THRESH_TOZERO)"
   ]
  },
  {
   "cell_type": "code",
   "execution_count": 12,
   "id": "1fb58102-6b47-4059-9349-ab3b2e9706f9",
   "metadata": {},
   "outputs": [],
   "source": [
    "ret,thresh5 = cv2.threshold(GREY, 127,255,cv2.THRESH_TOZERO_INV )"
   ]
  },
  {
   "cell_type": "code",
   "execution_count": 13,
   "id": "247d85b2-80ab-4114-bfe9-23b88a8325be",
   "metadata": {},
   "outputs": [],
   "source": [
    "img1 = cv2.medianBlur(GREY ,(5))"
   ]
  },
  {
   "cell_type": "code",
   "execution_count": 14,
   "id": "f1400db7-7e88-4461-9a20-e2e9403802be",
   "metadata": {},
   "outputs": [],
   "source": [
    "cv2.imshow(\"Original\",img)\n",
    "cv2.imshow(\"gray\",GREY)\n",
    "cv2.imshow(\"THRESH_BINARY\",thresh1)\n",
    "cv2.imshow(\"THRESH_BINARY_INV\",thresh2)\n",
    "cv2.imshow(\"THRESH_TRUNC\",thresh3)\n",
    "cv2.imshow(\"THRESH_TOZERO\",thresh4)\n",
    "cv2.imshow(\"THRESH_TOZERO_INV\",thresh5)\n",
    "cv2.waitKey(0)\n",
    "cv2.destroyAllWindows()"
   ]
  },
  {
   "cell_type": "code",
   "execution_count": 16,
   "id": "f746e431-067a-4f23-b42e-ccda93052294",
   "metadata": {},
   "outputs": [],
   "source": [
    "img1 = cv2.medianBlur(GREY ,(5))"
   ]
  },
  {
   "cell_type": "code",
   "execution_count": 28,
   "id": "9695c03e-4cf6-4cfa-8600-66a37398ef1a",
   "metadata": {},
   "outputs": [],
   "source": [
    "th  = cv2.adaptiveThreshold(img1,255,cv2.ADAPTIVE_THRESH_MEAN_C,cv2.THRESH_BINARY,3,2)"
   ]
  },
  {
   "cell_type": "code",
   "execution_count": 23,
   "id": "25abe8c9-6d46-42a5-95a6-b9a8b2546d50",
   "metadata": {},
   "outputs": [],
   "source": [
    "cv2.imshow(\"Blur img\",img1)\n",
    "cv2.imshow(\"MeanC\",th)\n",
    "cv2.waitKey(0)\n",
    "cv2.destroyAllWindows()"
   ]
  },
  {
   "cell_type": "code",
   "execution_count": 27,
   "id": "cca86424-6b54-4686-bc70-c5e995c49f98",
   "metadata": {},
   "outputs": [],
   "source": [
    "th1 = cv2.adaptiveThreshold(img1,255,cv2.ADAPTIVE_THRESH_GAUSSIAN_C,cv2.THRESH_BINARY,3,2)"
   ]
  },
  {
   "cell_type": "code",
   "execution_count": 29,
   "id": "14f31832-5112-4790-8c90-a6b9829e7ea0",
   "metadata": {},
   "outputs": [],
   "source": [
    "cv2.imshow(\"MeanC\",th)\n",
    "cv2.imshow(\"GAUSSIAN\",th1)\n",
    "cv2.waitKey(0)\n",
    "cv2.destroyAllWindows()"
   ]
  },
  {
   "cell_type": "code",
   "execution_count": null,
   "id": "666273cc-85dd-44e1-bff7-730a5c466884",
   "metadata": {},
   "outputs": [],
   "source": []
  },
  {
   "cell_type": "code",
   "execution_count": null,
   "id": "6a1df514-eb04-485a-9203-a7f543b8900c",
   "metadata": {},
   "outputs": [],
   "source": []
  },
  {
   "cell_type": "code",
   "execution_count": null,
   "id": "911280a0-bccd-46cf-90cd-d2fe601bf246",
   "metadata": {},
   "outputs": [],
   "source": []
  },
  {
   "cell_type": "code",
   "execution_count": null,
   "id": "b343aa06-8359-4f9d-ac06-4050c8b833a1",
   "metadata": {},
   "outputs": [],
   "source": []
  },
  {
   "cell_type": "code",
   "execution_count": null,
   "id": "0e96110c-f88b-48fe-a51f-f7c48dff119c",
   "metadata": {},
   "outputs": [],
   "source": []
  },
  {
   "cell_type": "code",
   "execution_count": null,
   "id": "3f686959-216b-41e2-b1e3-41ead5471b11",
   "metadata": {},
   "outputs": [],
   "source": []
  },
  {
   "cell_type": "code",
   "execution_count": null,
   "id": "eb6ebbc2-a301-464f-abd1-a8165b21c960",
   "metadata": {},
   "outputs": [],
   "source": []
  }
 ],
 "metadata": {
  "kernelspec": {
   "display_name": "Python 3 (ipykernel)",
   "language": "python",
   "name": "python3"
  },
  "language_info": {
   "codemirror_mode": {
    "name": "ipython",
    "version": 3
   },
   "file_extension": ".py",
   "mimetype": "text/x-python",
   "name": "python",
   "nbconvert_exporter": "python",
   "pygments_lexer": "ipython3",
   "version": "3.9.19"
  }
 },
 "nbformat": 4,
 "nbformat_minor": 5
}
