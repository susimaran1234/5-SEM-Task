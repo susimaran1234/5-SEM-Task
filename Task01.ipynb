{
 "cells": [
  {
   "cell_type": "code",
   "execution_count": 1,
   "id": "3d8093ed-ad25-4dad-8f5d-1677c5787ee2",
   "metadata": {},
   "outputs": [],
   "source": [
    "import cv2\n",
    "import numpy as np"
   ]
  },
  {
   "cell_type": "code",
   "execution_count": 2,
   "id": "fde20909-5f10-4239-9f52-13a99758b81e",
   "metadata": {},
   "outputs": [],
   "source": [
    "img1 = cv2.imread(\"C:\\\\Users\\\\aedpu\\\\OneDrive\\\\Pictures\\\\red.jpg\")\n",
    "img2 = cv2.imread(\"C:\\\\Users\\\\aedpu\\\\OneDrive\\\\Pictures\\\\moon.png\")\n",
    "cv2.imshow(\"IMG1\",img1)\n",
    "cv2.imshow(\"IMG2\",img2)\n",
    "cv2.waitKey(0)\n",
    "cv2.destroyAllWindows()"
   ]
  },
  {
   "cell_type": "code",
   "execution_count": 3,
   "id": "a6845559-a265-4560-982d-4dbafc896656",
   "metadata": {},
   "outputs": [],
   "source": [
    "img_1 = cv2.resize(img1,(500,500))\n",
    "img_2 = cv2.resize(img2,(500,500))"
   ]
  },
  {
   "cell_type": "code",
   "execution_count": 4,
   "id": "1e2b3487-3d6d-4328-87a5-73bdcfe895f1",
   "metadata": {},
   "outputs": [],
   "source": [
    "imadd = cv2.addWeighted(img_1,1,img_2,0.3,0)\n",
    "cv2.imshow(\"IMG_1\",img_1)\n",
    "cv2.imshow(\"IMG_2\",img_2)\n",
    "cv2.imshow(\"addimg\",imadd)\n",
    "cv2.waitKey(0)\n",
    "cv2.destroyAllWindows()"
   ]
  },
  {
   "cell_type": "code",
   "execution_count": 5,
   "id": "8a0e73ae-28ec-4526-a8b3-78d23a243acb",
   "metadata": {},
   "outputs": [],
   "source": [
    "bitwise_and = cv2.bitwise_and (img_1,img_2,mask=None)"
   ]
  },
  {
   "cell_type": "code",
   "execution_count": 6,
   "id": "d371143d-f5b1-4a72-b930-27162531be92",
   "metadata": {},
   "outputs": [],
   "source": [
    "bitwise_or = cv2.bitwise_or (img_1,img_2,mask=None)"
   ]
  },
  {
   "cell_type": "code",
   "execution_count": 7,
   "id": "a66b6432-56e4-4115-8090-4f0d40114d20",
   "metadata": {},
   "outputs": [],
   "source": [
    "bitwise_xor = cv2.bitwise_xor (img_1,img_2,mask=None)"
   ]
  },
  {
   "cell_type": "code",
   "execution_count": 8,
   "id": "c5666782-53cd-4585-a2cc-07cefe2acef3",
   "metadata": {},
   "outputs": [],
   "source": [
    "cv2.imshow(\"bitwise_or\",bitwise_or)\n",
    "cv2.imshow(\"bitwise_xor \",bitwise_xor )\n",
    "cv2.imshow(\"bitwise_not\",bitwise_and)\n",
    "cv2.waitKey(0)\n",
    "cv2.destroyAllWindows()"
   ]
  },
  {
   "cell_type": "code",
   "execution_count": 9,
   "id": "79414f8a-f7d1-49f0-bff0-c441ecb21d54",
   "metadata": {},
   "outputs": [
    {
     "name": "stdout",
     "output_type": "stream",
     "text": [
      "(512, 512, 3)\n",
      "512\n",
      "512\n"
     ]
    }
   ],
   "source": [
    "img = cv2.resize(bitwise_xor,(512,512))\n",
    "shp=img.shape\n",
    "print(shp)\n",
    "height,width=img.shape[:2]\n",
    "print(height)\n",
    "print(width)"
   ]
  },
  {
   "cell_type": "code",
   "execution_count": 10,
   "id": "2eca2e4a-2e8b-4d04-8e92-69605f2ef46f",
   "metadata": {},
   "outputs": [],
   "source": [
    "cv2.imshow(\"IMG\",img)\n",
    "cv2.waitKey(0)\n",
    "cv2.destroyAllWindows()"
   ]
  },
  {
   "cell_type": "code",
   "execution_count": 11,
   "id": "cdd45be7-4b33-4873-a81f-b481e299efdd",
   "metadata": {},
   "outputs": [
    {
     "name": "stdout",
     "output_type": "stream",
     "text": [
      "(256.0, 256.0)\n"
     ]
    }
   ],
   "source": [
    "center = (width/2,height/2)\n",
    "print(center)"
   ]
  },
  {
   "cell_type": "code",
   "execution_count": 12,
   "id": "a72992dd-e4eb-45b4-a098-27faa5ec5812",
   "metadata": {},
   "outputs": [
    {
     "name": "stdout",
     "output_type": "stream",
     "text": [
      "[[-1.0000000e+00  1.2246468e-16  5.1200000e+02]\n",
      " [-1.2246468e-16 -1.0000000e+00  5.1200000e+02]]\n"
     ]
    }
   ],
   "source": [
    "rotate_matrix = cv2.getRotationMatrix2D(center= center, angle = 180 , scale = 1.0)\n",
    "print(rotate_matrix)"
   ]
  },
  {
   "cell_type": "code",
   "execution_count": 13,
   "id": "63132756-6c34-4121-8852-a79a7eabc7c1",
   "metadata": {},
   "outputs": [],
   "source": [
    "rotate_image = cv2.warpAffine(src=img, M=rotate_matrix, dsize=(width,height))\n",
    "cv2.imshow(\"ORG_Image\",img)\n",
    "cv2.waitKey(0)\n",
    "cv2.imshow(\"rotate_image\",rotate_image)\n",
    "cv2.waitKey(0)\n",
    "cv2.destroyAllWindows()"
   ]
  },
  {
   "cell_type": "code",
   "execution_count": null,
   "id": "7c6c8f25-6960-4238-959e-7d227ed434c0",
   "metadata": {},
   "outputs": [],
   "source": []
  }
 ],
 "metadata": {
  "kernelspec": {
   "display_name": "Python 3 (ipykernel)",
   "language": "python",
   "name": "python3"
  },
  "language_info": {
   "codemirror_mode": {
    "name": "ipython",
    "version": 3
   },
   "file_extension": ".py",
   "mimetype": "text/x-python",
   "name": "python",
   "nbconvert_exporter": "python",
   "pygments_lexer": "ipython3",
   "version": "3.9.19"
  }
 },
 "nbformat": 4,
 "nbformat_minor": 5
}
